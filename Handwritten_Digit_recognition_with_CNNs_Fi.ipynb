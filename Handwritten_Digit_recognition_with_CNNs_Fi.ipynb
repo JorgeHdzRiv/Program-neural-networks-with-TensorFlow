{
  "nbformat": 4,
  "nbformat_minor": 0,
  "metadata": {
    "colab": {
      "name": "Handwritten_Digit_recognition_with_CNNs_Fi.ipynb",
      "provenance": [],
      "collapsed_sections": [],
      "include_colab_link": true
    },
    "kernelspec": {
      "name": "python3",
      "display_name": "Python 3"
    },
    "language_info": {
      "name": "python"
    }
  },
  "cells": [
    {
      "cell_type": "markdown",
      "metadata": {
        "id": "view-in-github",
        "colab_type": "text"
      },
      "source": [
        "<a href=\"https://colab.research.google.com/github/JorgeHdzRiv/Program-neural-networks-with-TensorFlow/blob/main/Handwritten_Digit_recognition_with_CNNs_Fi.ipynb\" target=\"_parent\"><img src=\"https://colab.research.google.com/assets/colab-badge.svg\" alt=\"Open In Colab\"/></a>"
      ]
    },
    {
      "cell_type": "markdown",
      "source": [
        "#Reconocimiento de dígitos escritos a mano con CNN\n",
        "------------------------------------------------------------------------------"
      ],
      "metadata": {
        "id": "RWVQE7zZ_6bO"
      }
    },
    {
      "cell_type": "markdown",
      "source": [
        "\n",
        "\n",
        "**MNIST** *es una base de datos que tiene dígitos escritos a mano que se usa comúnmente para entrenar varios sistemas de procesamiento de imágenes. La base de datos también se usa ampliamente para capacitación y pruebas en el campo del aprendizaje automático.* ***Contiene 60 000 imágenes de entrenamiento y 10 000 imágenes de prueba.*** \n",
        "\n",
        "Usando las herramientas de Tensorflow, cargue esta base de datos y realice una red neuronal convolucional (CNN) que pueda predecir los **dígitos del 0 - 9**.\n",
        "\n",
        "La estructura de la red, debe ser definida con la capa de entrada con 784 neuronas, especificando que llegará de forma cuadrada en una imagen de 28x28 pixeles.\n",
        "\n",
        "Declare dos capas ocultas de 64 neuronas cada una, utilice la función de activación **sigmoid** para la salida de los resultados. Así mismo, declare la capa de salida con 10 neuronas, utilizando la función de activación **softmax** para la clasificación de resultados y arroje el pronośtico mas acertado, según el número leído.\n",
        "\n",
        "$Función$ $Sigmoide:$\n",
        "\n",
        "$ \n",
        "σ(x) = \\frac{1}{1+e^x}  \n",
        "$\n",
        "\n",
        "$Función$ $Softmax:$\n",
        "\n",
        "$ \n",
        "s(x_i) = \\frac{e^{x_i}}{∑_{j=1}^ne^{x_j}}  \n",
        "$\n",
        "\n",
        "Para los algoritmos de optimización y perdidas, utilice **Adam** y **Parse Categorical Crossentropy**, hay que precisar las métricas de prueba.\n",
        "\n",
        "Realice un test de entrenamiento para verificar las epocas dadas y visualice el comportamiento de las perdidas según el algoritmo utilizado.\n",
        "\n",
        "Visualice los resultados de las predicciones y grafique por cada número, la probabilidad de(los) número(s) que el algoritmo haya identificado. \n",
        "\n",
        "Guarde el modelo anterior en un archivo con el nombre y tipo de dato **mymodel.h5**\n"
      ],
      "metadata": {
        "id": "Npqz4typUyhC"
      }
    },
    {
      "cell_type": "markdown",
      "source": [
        "## Preparando los Datos"
      ],
      "metadata": {
        "id": "BA6n90FvscQ7"
      }
    },
    {
      "cell_type": "code",
      "source": [
        "import math\n",
        "import numpy as np\n",
        "import matplotlib.pyplot as plt\n",
        "\n",
        "import tensorflow as tf\n",
        "import tensorflow_datasets as tfds"
      ],
      "metadata": {
        "id": "3foa4Vh2f1dW"
      },
      "execution_count": 33,
      "outputs": []
    },
    {
      "cell_type": "code",
      "source": [
        "data, metadata = tfds.load('mnist', as_supervised = True, with_info = True)"
      ],
      "metadata": {
        "id": "i-gmngiQgk--"
      },
      "execution_count": 34,
      "outputs": []
    },
    {
      "cell_type": "code",
      "source": [
        "print('METADATOS:\\n')\n",
        "metadata"
      ],
      "metadata": {
        "colab": {
          "base_uri": "https://localhost:8080/"
        },
        "id": "dm1pz3_zhCUp",
        "outputId": "39bde1cf-d281-4846-cd52-26045078bd47"
      },
      "execution_count": 35,
      "outputs": [
        {
          "output_type": "stream",
          "name": "stdout",
          "text": [
            "METADATOS:\n",
            "\n"
          ]
        },
        {
          "output_type": "execute_result",
          "data": {
            "text/plain": [
              "tfds.core.DatasetInfo(\n",
              "    name='mnist',\n",
              "    version=3.0.1,\n",
              "    description='The MNIST database of handwritten digits.',\n",
              "    homepage='http://yann.lecun.com/exdb/mnist/',\n",
              "    features=FeaturesDict({\n",
              "        'image': Image(shape=(28, 28, 1), dtype=tf.uint8),\n",
              "        'label': ClassLabel(shape=(), dtype=tf.int64, num_classes=10),\n",
              "    }),\n",
              "    total_num_examples=70000,\n",
              "    splits={\n",
              "        'test': 10000,\n",
              "        'train': 60000,\n",
              "    },\n",
              "    supervised_keys=('image', 'label'),\n",
              "    citation=\"\"\"@article{lecun2010mnist,\n",
              "      title={MNIST handwritten digit database},\n",
              "      author={LeCun, Yann and Cortes, Corinna and Burges, CJ},\n",
              "      journal={ATT Labs [Online]. Available: http://yann.lecun.com/exdb/mnist},\n",
              "      volume={2},\n",
              "      year={2010}\n",
              "    }\"\"\",\n",
              "    redistribution_info=,\n",
              ")"
            ]
          },
          "metadata": {},
          "execution_count": 35
        }
      ]
    },
    {
      "cell_type": "code",
      "source": [
        "print('DATASET:\\n')\n",
        "data"
      ],
      "metadata": {
        "colab": {
          "base_uri": "https://localhost:8080/"
        },
        "id": "8lvVlHadhLLR",
        "outputId": "152784d7-f576-45f7-bece-105beddf68fb"
      },
      "execution_count": 36,
      "outputs": [
        {
          "output_type": "stream",
          "name": "stdout",
          "text": [
            "DATASET:\n",
            "\n"
          ]
        },
        {
          "output_type": "execute_result",
          "data": {
            "text/plain": [
              "{'test': <PrefetchDataset element_spec=(TensorSpec(shape=(28, 28, 1), dtype=tf.uint8, name=None), TensorSpec(shape=(), dtype=tf.int64, name=None))>,\n",
              " 'train': <PrefetchDataset element_spec=(TensorSpec(shape=(28, 28, 1), dtype=tf.uint8, name=None), TensorSpec(shape=(), dtype=tf.int64, name=None))>}"
            ]
          },
          "metadata": {},
          "execution_count": 36
        }
      ]
    },
    {
      "cell_type": "code",
      "source": [
        "train_dataset, test_dataset = data['train'], data['test']\n",
        "train_dataset, test_dataset"
      ],
      "metadata": {
        "colab": {
          "base_uri": "https://localhost:8080/"
        },
        "id": "eJ6WPq0whefO",
        "outputId": "3a7e689b-6b6e-4d1e-9728-4f8b566b58e2"
      },
      "execution_count": 37,
      "outputs": [
        {
          "output_type": "execute_result",
          "data": {
            "text/plain": [
              "(<PrefetchDataset element_spec=(TensorSpec(shape=(28, 28, 1), dtype=tf.uint8, name=None), TensorSpec(shape=(), dtype=tf.int64, name=None))>,\n",
              " <PrefetchDataset element_spec=(TensorSpec(shape=(28, 28, 1), dtype=tf.uint8, name=None), TensorSpec(shape=(), dtype=tf.int64, name=None))>)"
            ]
          },
          "metadata": {},
          "execution_count": 37
        }
      ]
    },
    {
      "cell_type": "code",
      "source": [
        "class_name = ['Cero', 'Uno', 'Dos', 'Tres', 'Cuatro', 'Cinco', 'Seis', 'Siete', 'Ocho', 'Nueve']\n",
        "class_name"
      ],
      "metadata": {
        "colab": {
          "base_uri": "https://localhost:8080/"
        },
        "id": "1hpzz0gsh9N7",
        "outputId": "95d78f76-dca4-4ce2-f88c-d8e93e999ffb"
      },
      "execution_count": 38,
      "outputs": [
        {
          "output_type": "execute_result",
          "data": {
            "text/plain": [
              "['Cero',\n",
              " 'Uno',\n",
              " 'Dos',\n",
              " 'Tres',\n",
              " 'Cuatro',\n",
              " 'Cinco',\n",
              " 'Seis',\n",
              " 'Siete',\n",
              " 'Ocho',\n",
              " 'Nueve']"
            ]
          },
          "metadata": {},
          "execution_count": 38
        }
      ]
    },
    {
      "cell_type": "code",
      "source": [
        "num_train_example = metadata.splits['train'].num_examples\n",
        "num_test_example = metadata.splits['test'].num_examples\n",
        "num_train_example, num_test_example"
      ],
      "metadata": {
        "colab": {
          "base_uri": "https://localhost:8080/"
        },
        "id": "0FikbgQNikKS",
        "outputId": "a969376b-589c-4fc8-c4ed-580b1dc3a3f9"
      },
      "execution_count": 39,
      "outputs": [
        {
          "output_type": "execute_result",
          "data": {
            "text/plain": [
              "(60000, 10000)"
            ]
          },
          "metadata": {},
          "execution_count": 39
        }
      ]
    },
    {
      "cell_type": "markdown",
      "source": [
        "## Normalizando los datos"
      ],
      "metadata": {
        "id": "-HtFNPcBskiW"
      }
    },
    {
      "cell_type": "code",
      "source": [
        "def normalize(images, labels):\n",
        "\n",
        "  images = tf.cast(images, tf.float32)\n",
        "  images /= 255\n",
        "\n",
        "  return images, labels\n",
        "\n",
        "train_dataset = train_dataset.map(normalize)\n",
        "test_dataset = test_dataset.map(normalize)\n",
        "\n",
        "train_dataset, test_dataset"
      ],
      "metadata": {
        "colab": {
          "base_uri": "https://localhost:8080/"
        },
        "id": "lK4yuUYFjJTN",
        "outputId": "1bed2d35-520e-4efa-b532-84a3dcd33e82"
      },
      "execution_count": 40,
      "outputs": [
        {
          "output_type": "execute_result",
          "data": {
            "text/plain": [
              "(<MapDataset element_spec=(TensorSpec(shape=(28, 28, 1), dtype=tf.float32, name=None), TensorSpec(shape=(), dtype=tf.int64, name=None))>,\n",
              " <MapDataset element_spec=(TensorSpec(shape=(28, 28, 1), dtype=tf.float32, name=None), TensorSpec(shape=(), dtype=tf.int64, name=None))>)"
            ]
          },
          "metadata": {},
          "execution_count": 40
        }
      ]
    },
    {
      "cell_type": "markdown",
      "source": [
        "## Haciendo el modelo"
      ],
      "metadata": {
        "id": "RMFFWkvIsn9z"
      }
    },
    {
      "cell_type": "code",
      "source": [
        "model = tf.keras.Sequential([\n",
        "    tf.keras.layers.Flatten(input_shape = (28, 28, 1)),\n",
        "    tf.keras.layers.Dense(64, activation = tf.nn.sigmoid),\n",
        "    tf.keras.layers.Dense(64, activation = tf.nn.sigmoid),\n",
        "    tf.keras.layers.Dense(10, activation = tf.nn.softmax)                         \n",
        "    ])"
      ],
      "metadata": {
        "id": "YDaFOZ37kXFq"
      },
      "execution_count": 41,
      "outputs": []
    },
    {
      "cell_type": "markdown",
      "source": [
        "## Compilando el modelo"
      ],
      "metadata": {
        "id": "sz7jtITIstw-"
      }
    },
    {
      "cell_type": "code",
      "source": [
        "model.compile(\n",
        "    optimizer = 'Adam',\n",
        "    loss = 'sparse_categorical_crossentropy',\n",
        "    metrics = ['accuracy']\n",
        ")"
      ],
      "metadata": {
        "id": "f1IoQLocl81F"
      },
      "execution_count": 42,
      "outputs": []
    },
    {
      "cell_type": "code",
      "source": [
        "BATCHSIZE = 32\n",
        "train_dataset = train_dataset.repeat().shuffle(num_train_example).batch(BATCHSIZE)\n",
        "test_dataset = test_dataset.batch(BATCHSIZE)"
      ],
      "metadata": {
        "id": "CW-gc8g7mfCN"
      },
      "execution_count": 43,
      "outputs": []
    },
    {
      "cell_type": "code",
      "source": [
        "historial = model.fit(\n",
        "    train_dataset, epochs = 10,\n",
        "    steps_per_epoch = math.ceil(num_train_example/BATCHSIZE)\n",
        ")"
      ],
      "metadata": {
        "colab": {
          "base_uri": "https://localhost:8080/"
        },
        "id": "rtSzxtlvnUv8",
        "outputId": "cb0e7d7e-ce28-4ad3-b149-2f7c21d8993b"
      },
      "execution_count": 48,
      "outputs": [
        {
          "output_type": "stream",
          "name": "stdout",
          "text": [
            "Epoch 1/10\n",
            "1875/1875 [==============================] - 10s 4ms/step - loss: 0.0359 - accuracy: 0.9898\n",
            "Epoch 2/10\n",
            "1875/1875 [==============================] - 8s 4ms/step - loss: 0.0325 - accuracy: 0.9905\n",
            "Epoch 3/10\n",
            "1875/1875 [==============================] - 8s 4ms/step - loss: 0.0280 - accuracy: 0.9918\n",
            "Epoch 4/10\n",
            "1875/1875 [==============================] - 8s 4ms/step - loss: 0.0242 - accuracy: 0.9933\n",
            "Epoch 5/10\n",
            "1875/1875 [==============================] - 8s 4ms/step - loss: 0.0201 - accuracy: 0.9943\n",
            "Epoch 6/10\n",
            "1875/1875 [==============================] - 7s 4ms/step - loss: 0.0182 - accuracy: 0.9951\n",
            "Epoch 7/10\n",
            "1875/1875 [==============================] - 7s 4ms/step - loss: 0.0163 - accuracy: 0.9956\n",
            "Epoch 8/10\n",
            "1875/1875 [==============================] - 7s 4ms/step - loss: 0.0141 - accuracy: 0.9962\n",
            "Epoch 9/10\n",
            "1875/1875 [==============================] - 8s 4ms/step - loss: 0.0121 - accuracy: 0.9971\n",
            "Epoch 10/10\n",
            "1875/1875 [==============================] - 7s 4ms/step - loss: 0.0110 - accuracy: 0.9972\n"
          ]
        }
      ]
    },
    {
      "cell_type": "code",
      "source": [
        "test_loss, test_accuracy = model.evaluate(\n",
        "    test_dataset, steps = math.ceil(num_test_example/BATCHSIZE)\n",
        ")\n",
        "\n",
        "print(\"Resultado de pruebas:\", test_accuracy)\n",
        "print(\"Resultado de perdidas:\", test_loss)"
      ],
      "metadata": {
        "colab": {
          "base_uri": "https://localhost:8080/"
        },
        "id": "7K0_ZGs2ntFk",
        "outputId": "5522dcdf-e75b-423d-eb50-99000c10ab3d"
      },
      "execution_count": 50,
      "outputs": [
        {
          "output_type": "stream",
          "name": "stdout",
          "text": [
            "313/313 [==============================] - 2s 6ms/step - loss: 0.1027 - accuracy: 0.9724\n",
            "Resultado de pruebas: 0.9724000096321106\n",
            "Resultado de perdidas: 0.10265100002288818\n"
          ]
        }
      ]
    },
    {
      "cell_type": "code",
      "source": [
        "def loss_function_visualization(historial = historial):\n",
        "  plt.xlabel(\"Epocas\")\n",
        "  plt.ylabel(\"Magnitud de perdida\")\n",
        "  plt.plot(historial.history[\"loss\"])\n",
        "\n",
        "loss_function_visualization()"
      ],
      "metadata": {
        "colab": {
          "base_uri": "https://localhost:8080/",
          "height": 279
        },
        "id": "dNOpldZYqO8c",
        "outputId": "80f28c09-eab6-40b9-cb4e-3f77178cdc86"
      },
      "execution_count": 51,
      "outputs": [
        {
          "output_type": "display_data",
          "data": {
            "text/plain": [
              "<Figure size 432x288 with 1 Axes>"
            ],
            "image/png": "[encoded data removed]"
          },
          "metadata": {
            "needs_background": "light"
          }
        }
      ]
    },
    {
      "cell_type": "code",
      "source": [
        "for test_images, test_labels in test_dataset.take(1):\n",
        "\ttest_images = test_images.numpy()\n",
        "\ttest_labels = test_labels.numpy()\n",
        "\tpredictions = model.predict(test_images)\n",
        " \n",
        "def plot_image(i, predictions_array, true_labels, images):\n",
        "\tpredictions_array, true_label, img = predictions_array[i], true_labels[i], images[i]\n",
        "\tplt.grid(False)\n",
        "\tplt.xticks([])\n",
        "\tplt.yticks([])\n",
        "\n",
        "\tplt.imshow(img[...,0], cmap=plt.cm.binary)\n",
        "\n",
        "\tpredicted_label = np.argmax(predictions_array)\n",
        "\tif predicted_label == true_label:\n",
        "\t\tcolor = 'blue'\n",
        "\telse:\n",
        "\t\tcolor = 'red'\n",
        "\n",
        "\tplt.xlabel(\"Prediccion: {}\".format(class_name[predicted_label]), color=color)\n",
        " \n",
        "def plot_value_array(i, predictions_array, true_label):\n",
        "\tpredictions_array, true_label = predictions_array[i], true_label[i]\n",
        "\tplt.grid(False)\n",
        "\tplt.xticks([])\n",
        "\tplt.yticks([])\n",
        "\tthisplot = plt.bar(range(10), predictions_array, color=\"#888888\")\n",
        "\tplt.ylim([0,1])\n",
        "\tpredicted_label = np.argmax(predictions_array)\n",
        "\n",
        "\tthisplot[predicted_label].set_color('red')\n",
        "\tthisplot[true_label].set_color('blue')\n",
        " \n",
        "numrows=5\n",
        "numcols=5\n",
        "numimages = numrows*numcols\n",
        "\n",
        "plt.figure(figsize=(2*2*numcols, 2*numrows))\n",
        "for i in range(numimages):\n",
        "\tplt.subplot(numrows, 2*numcols, 2*i+1)\n",
        "\tplot_image(i, predictions, test_labels, test_images)\n",
        "\tplt.subplot(numrows, 2*numcols, 2*i+2)\n",
        "\tplot_value_array(i, predictions, test_labels)\n",
        "\n",
        "plt.show()"
      ],
      "metadata": {
        "colab": {
          "base_uri": "https://localhost:8080/",
          "height": 589
        },
        "id": "00D0hQoBqnWa",
        "outputId": "1a381c87-fed7-456f-d975-a90e956c0968"
      },
      "execution_count": 52,
      "outputs": [
        {
          "output_type": "display_data",
          "data": {
            "text/plain": [
              "<Figure size 1440x720 with 50 Axes>"
            ],
            "image/png": "[encoded data removed]"
          },
          "metadata": {}
        }
      ]
    }
  ]
}